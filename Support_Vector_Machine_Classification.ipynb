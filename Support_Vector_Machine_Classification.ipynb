{
  "nbformat": 4,
  "nbformat_minor": 0,
  "metadata": {
    "colab": {
      "provenance": [],
      "include_colab_link": true
    },
    "kernelspec": {
      "name": "python3",
      "display_name": "Python 3"
    },
    "language_info": {
      "name": "python"
    }
  },
  "cells": [
    {
      "cell_type": "markdown",
      "metadata": {
        "id": "view-in-github",
        "colab_type": "text"
      },
      "source": [
        "<a href=\"https://colab.research.google.com/github/rahfa-quraniyatin/Python_SVM_Classification/blob/main/Support_Vector_Machine_Classification.ipynb\" target=\"_parent\"><img src=\"https://colab.research.google.com/assets/colab-badge.svg\" alt=\"Open In Colab\"/></a>"
      ]
    },
    {
      "cell_type": "markdown",
      "source": [
        "# **1. Import Data**"
      ],
      "metadata": {
        "id": "kjLlrWZybc-I"
      }
    },
    {
      "cell_type": "code",
      "source": [
        "# import data\n",
        "import pandas as pd\n",
        "\n",
        "stunting_data = pd.read_csv('/content/data_balita.csv')\n",
        "stunting_data.head()"
      ],
      "metadata": {
        "colab": {
          "base_uri": "https://localhost:8080/",
          "height": 206
        },
        "id": "IESd2tDabDIL",
        "outputId": "fc392bde-d7a0-4c07-cc21-dcb9c3052f72"
      },
      "execution_count": 39,
      "outputs": [
        {
          "output_type": "execute_result",
          "data": {
            "text/plain": [
              "   Umur (bulan) Jenis Kelamin  Tinggi Badan (cm)       Status Gizi\n",
              "0             0     laki-laki          44.591973           stunted\n",
              "1             0     laki-laki          56.705203            tinggi\n",
              "2             0     laki-laki          46.863358            normal\n",
              "3             0     laki-laki          47.508026            normal\n",
              "4             0     laki-laki          42.743494  severely stunted"
            ],
            "text/html": [
              "\n",
              "  <div id=\"df-493abf39-ede8-4c7d-b08b-baaaa3624483\" class=\"colab-df-container\">\n",
              "    <div>\n",
              "<style scoped>\n",
              "    .dataframe tbody tr th:only-of-type {\n",
              "        vertical-align: middle;\n",
              "    }\n",
              "\n",
              "    .dataframe tbody tr th {\n",
              "        vertical-align: top;\n",
              "    }\n",
              "\n",
              "    .dataframe thead th {\n",
              "        text-align: right;\n",
              "    }\n",
              "</style>\n",
              "<table border=\"1\" class=\"dataframe\">\n",
              "  <thead>\n",
              "    <tr style=\"text-align: right;\">\n",
              "      <th></th>\n",
              "      <th>Umur (bulan)</th>\n",
              "      <th>Jenis Kelamin</th>\n",
              "      <th>Tinggi Badan (cm)</th>\n",
              "      <th>Status Gizi</th>\n",
              "    </tr>\n",
              "  </thead>\n",
              "  <tbody>\n",
              "    <tr>\n",
              "      <th>0</th>\n",
              "      <td>0</td>\n",
              "      <td>laki-laki</td>\n",
              "      <td>44.591973</td>\n",
              "      <td>stunted</td>\n",
              "    </tr>\n",
              "    <tr>\n",
              "      <th>1</th>\n",
              "      <td>0</td>\n",
              "      <td>laki-laki</td>\n",
              "      <td>56.705203</td>\n",
              "      <td>tinggi</td>\n",
              "    </tr>\n",
              "    <tr>\n",
              "      <th>2</th>\n",
              "      <td>0</td>\n",
              "      <td>laki-laki</td>\n",
              "      <td>46.863358</td>\n",
              "      <td>normal</td>\n",
              "    </tr>\n",
              "    <tr>\n",
              "      <th>3</th>\n",
              "      <td>0</td>\n",
              "      <td>laki-laki</td>\n",
              "      <td>47.508026</td>\n",
              "      <td>normal</td>\n",
              "    </tr>\n",
              "    <tr>\n",
              "      <th>4</th>\n",
              "      <td>0</td>\n",
              "      <td>laki-laki</td>\n",
              "      <td>42.743494</td>\n",
              "      <td>severely stunted</td>\n",
              "    </tr>\n",
              "  </tbody>\n",
              "</table>\n",
              "</div>\n",
              "    <div class=\"colab-df-buttons\">\n",
              "\n",
              "  <div class=\"colab-df-container\">\n",
              "    <button class=\"colab-df-convert\" onclick=\"convertToInteractive('df-493abf39-ede8-4c7d-b08b-baaaa3624483')\"\n",
              "            title=\"Convert this dataframe to an interactive table.\"\n",
              "            style=\"display:none;\">\n",
              "\n",
              "  <svg xmlns=\"http://www.w3.org/2000/svg\" height=\"24px\" viewBox=\"0 -960 960 960\">\n",
              "    <path d=\"M120-120v-720h720v720H120Zm60-500h600v-160H180v160Zm220 220h160v-160H400v160Zm0 220h160v-160H400v160ZM180-400h160v-160H180v160Zm440 0h160v-160H620v160ZM180-180h160v-160H180v160Zm440 0h160v-160H620v160Z\"/>\n",
              "  </svg>\n",
              "    </button>\n",
              "\n",
              "  <style>\n",
              "    .colab-df-container {\n",
              "      display:flex;\n",
              "      gap: 12px;\n",
              "    }\n",
              "\n",
              "    .colab-df-convert {\n",
              "      background-color: #E8F0FE;\n",
              "      border: none;\n",
              "      border-radius: 50%;\n",
              "      cursor: pointer;\n",
              "      display: none;\n",
              "      fill: #1967D2;\n",
              "      height: 32px;\n",
              "      padding: 0 0 0 0;\n",
              "      width: 32px;\n",
              "    }\n",
              "\n",
              "    .colab-df-convert:hover {\n",
              "      background-color: #E2EBFA;\n",
              "      box-shadow: 0px 1px 2px rgba(60, 64, 67, 0.3), 0px 1px 3px 1px rgba(60, 64, 67, 0.15);\n",
              "      fill: #174EA6;\n",
              "    }\n",
              "\n",
              "    .colab-df-buttons div {\n",
              "      margin-bottom: 4px;\n",
              "    }\n",
              "\n",
              "    [theme=dark] .colab-df-convert {\n",
              "      background-color: #3B4455;\n",
              "      fill: #D2E3FC;\n",
              "    }\n",
              "\n",
              "    [theme=dark] .colab-df-convert:hover {\n",
              "      background-color: #434B5C;\n",
              "      box-shadow: 0px 1px 3px 1px rgba(0, 0, 0, 0.15);\n",
              "      filter: drop-shadow(0px 1px 2px rgba(0, 0, 0, 0.3));\n",
              "      fill: #FFFFFF;\n",
              "    }\n",
              "  </style>\n",
              "\n",
              "    <script>\n",
              "      const buttonEl =\n",
              "        document.querySelector('#df-493abf39-ede8-4c7d-b08b-baaaa3624483 button.colab-df-convert');\n",
              "      buttonEl.style.display =\n",
              "        google.colab.kernel.accessAllowed ? 'block' : 'none';\n",
              "\n",
              "      async function convertToInteractive(key) {\n",
              "        const element = document.querySelector('#df-493abf39-ede8-4c7d-b08b-baaaa3624483');\n",
              "        const dataTable =\n",
              "          await google.colab.kernel.invokeFunction('convertToInteractive',\n",
              "                                                    [key], {});\n",
              "        if (!dataTable) return;\n",
              "\n",
              "        const docLinkHtml = 'Like what you see? Visit the ' +\n",
              "          '<a target=\"_blank\" href=https://colab.research.google.com/notebooks/data_table.ipynb>data table notebook</a>'\n",
              "          + ' to learn more about interactive tables.';\n",
              "        element.innerHTML = '';\n",
              "        dataTable['output_type'] = 'display_data';\n",
              "        await google.colab.output.renderOutput(dataTable, element);\n",
              "        const docLink = document.createElement('div');\n",
              "        docLink.innerHTML = docLinkHtml;\n",
              "        element.appendChild(docLink);\n",
              "      }\n",
              "    </script>\n",
              "  </div>\n",
              "\n",
              "\n",
              "<div id=\"df-971b9b55-8fb2-404c-ab38-da64298d04f9\">\n",
              "  <button class=\"colab-df-quickchart\" onclick=\"quickchart('df-971b9b55-8fb2-404c-ab38-da64298d04f9')\"\n",
              "            title=\"Suggest charts\"\n",
              "            style=\"display:none;\">\n",
              "\n",
              "<svg xmlns=\"http://www.w3.org/2000/svg\" height=\"24px\"viewBox=\"0 0 24 24\"\n",
              "     width=\"24px\">\n",
              "    <g>\n",
              "        <path d=\"M19 3H5c-1.1 0-2 .9-2 2v14c0 1.1.9 2 2 2h14c1.1 0 2-.9 2-2V5c0-1.1-.9-2-2-2zM9 17H7v-7h2v7zm4 0h-2V7h2v10zm4 0h-2v-4h2v4z\"/>\n",
              "    </g>\n",
              "</svg>\n",
              "  </button>\n",
              "\n",
              "<style>\n",
              "  .colab-df-quickchart {\n",
              "      --bg-color: #E8F0FE;\n",
              "      --fill-color: #1967D2;\n",
              "      --hover-bg-color: #E2EBFA;\n",
              "      --hover-fill-color: #174EA6;\n",
              "      --disabled-fill-color: #AAA;\n",
              "      --disabled-bg-color: #DDD;\n",
              "  }\n",
              "\n",
              "  [theme=dark] .colab-df-quickchart {\n",
              "      --bg-color: #3B4455;\n",
              "      --fill-color: #D2E3FC;\n",
              "      --hover-bg-color: #434B5C;\n",
              "      --hover-fill-color: #FFFFFF;\n",
              "      --disabled-bg-color: #3B4455;\n",
              "      --disabled-fill-color: #666;\n",
              "  }\n",
              "\n",
              "  .colab-df-quickchart {\n",
              "    background-color: var(--bg-color);\n",
              "    border: none;\n",
              "    border-radius: 50%;\n",
              "    cursor: pointer;\n",
              "    display: none;\n",
              "    fill: var(--fill-color);\n",
              "    height: 32px;\n",
              "    padding: 0;\n",
              "    width: 32px;\n",
              "  }\n",
              "\n",
              "  .colab-df-quickchart:hover {\n",
              "    background-color: var(--hover-bg-color);\n",
              "    box-shadow: 0 1px 2px rgba(60, 64, 67, 0.3), 0 1px 3px 1px rgba(60, 64, 67, 0.15);\n",
              "    fill: var(--button-hover-fill-color);\n",
              "  }\n",
              "\n",
              "  .colab-df-quickchart-complete:disabled,\n",
              "  .colab-df-quickchart-complete:disabled:hover {\n",
              "    background-color: var(--disabled-bg-color);\n",
              "    fill: var(--disabled-fill-color);\n",
              "    box-shadow: none;\n",
              "  }\n",
              "\n",
              "  .colab-df-spinner {\n",
              "    border: 2px solid var(--fill-color);\n",
              "    border-color: transparent;\n",
              "    border-bottom-color: var(--fill-color);\n",
              "    animation:\n",
              "      spin 1s steps(1) infinite;\n",
              "  }\n",
              "\n",
              "  @keyframes spin {\n",
              "    0% {\n",
              "      border-color: transparent;\n",
              "      border-bottom-color: var(--fill-color);\n",
              "      border-left-color: var(--fill-color);\n",
              "    }\n",
              "    20% {\n",
              "      border-color: transparent;\n",
              "      border-left-color: var(--fill-color);\n",
              "      border-top-color: var(--fill-color);\n",
              "    }\n",
              "    30% {\n",
              "      border-color: transparent;\n",
              "      border-left-color: var(--fill-color);\n",
              "      border-top-color: var(--fill-color);\n",
              "      border-right-color: var(--fill-color);\n",
              "    }\n",
              "    40% {\n",
              "      border-color: transparent;\n",
              "      border-right-color: var(--fill-color);\n",
              "      border-top-color: var(--fill-color);\n",
              "    }\n",
              "    60% {\n",
              "      border-color: transparent;\n",
              "      border-right-color: var(--fill-color);\n",
              "    }\n",
              "    80% {\n",
              "      border-color: transparent;\n",
              "      border-right-color: var(--fill-color);\n",
              "      border-bottom-color: var(--fill-color);\n",
              "    }\n",
              "    90% {\n",
              "      border-color: transparent;\n",
              "      border-bottom-color: var(--fill-color);\n",
              "    }\n",
              "  }\n",
              "</style>\n",
              "\n",
              "  <script>\n",
              "    async function quickchart(key) {\n",
              "      const quickchartButtonEl =\n",
              "        document.querySelector('#' + key + ' button');\n",
              "      quickchartButtonEl.disabled = true;  // To prevent multiple clicks.\n",
              "      quickchartButtonEl.classList.add('colab-df-spinner');\n",
              "      try {\n",
              "        const charts = await google.colab.kernel.invokeFunction(\n",
              "            'suggestCharts', [key], {});\n",
              "      } catch (error) {\n",
              "        console.error('Error during call to suggestCharts:', error);\n",
              "      }\n",
              "      quickchartButtonEl.classList.remove('colab-df-spinner');\n",
              "      quickchartButtonEl.classList.add('colab-df-quickchart-complete');\n",
              "    }\n",
              "    (() => {\n",
              "      let quickchartButtonEl =\n",
              "        document.querySelector('#df-971b9b55-8fb2-404c-ab38-da64298d04f9 button');\n",
              "      quickchartButtonEl.style.display =\n",
              "        google.colab.kernel.accessAllowed ? 'block' : 'none';\n",
              "    })();\n",
              "  </script>\n",
              "</div>\n",
              "\n",
              "    </div>\n",
              "  </div>\n"
            ],
            "application/vnd.google.colaboratory.intrinsic+json": {
              "type": "dataframe",
              "variable_name": "stunting_data"
            }
          },
          "metadata": {},
          "execution_count": 39
        }
      ]
    },
    {
      "cell_type": "markdown",
      "source": [
        "# **2. Pre-processing Data**"
      ],
      "metadata": {
        "id": "RM-jZiJobhqh"
      }
    },
    {
      "cell_type": "code",
      "source": [
        "# rename coloumns\n",
        "stunting_data = stunting_data.rename(columns={\"Umur (bulan)\":\"Umur\",\"Tinggi Badan (cm)\":\"Tinggi Badan\"})\n",
        "print(stunting_data)"
      ],
      "metadata": {
        "colab": {
          "base_uri": "https://localhost:8080/"
        },
        "id": "A8m88SUnP2by",
        "outputId": "dffc0be4-e90b-4901-e43a-6ce2b786886d"
      },
      "execution_count": 40,
      "outputs": [
        {
          "output_type": "stream",
          "name": "stdout",
          "text": [
            "        Umur Jenis Kelamin  Tinggi Badan       Status Gizi\n",
            "0          0     laki-laki     44.591973           stunted\n",
            "1          0     laki-laki     56.705203            tinggi\n",
            "2          0     laki-laki     46.863358            normal\n",
            "3          0     laki-laki     47.508026            normal\n",
            "4          0     laki-laki     42.743494  severely stunted\n",
            "...      ...           ...           ...               ...\n",
            "120994    60     perempuan    100.600000            normal\n",
            "120995    60     perempuan     98.300000           stunted\n",
            "120996    60     perempuan    121.300000            normal\n",
            "120997    60     perempuan    112.200000            normal\n",
            "120998    60     perempuan    109.800000            normal\n",
            "\n",
            "[120999 rows x 4 columns]\n"
          ]
        }
      ]
    },
    {
      "cell_type": "code",
      "source": [
        "# check the data info\n",
        "stunting_data.info()"
      ],
      "metadata": {
        "colab": {
          "base_uri": "https://localhost:8080/"
        },
        "id": "v5NRfDw2By2j",
        "outputId": "63eea500-a644-4578-bea0-ca82725dd292"
      },
      "execution_count": 41,
      "outputs": [
        {
          "output_type": "stream",
          "name": "stdout",
          "text": [
            "<class 'pandas.core.frame.DataFrame'>\n",
            "RangeIndex: 120999 entries, 0 to 120998\n",
            "Data columns (total 4 columns):\n",
            " #   Column         Non-Null Count   Dtype  \n",
            "---  ------         --------------   -----  \n",
            " 0   Umur           120999 non-null  int64  \n",
            " 1   Jenis Kelamin  120999 non-null  object \n",
            " 2   Tinggi Badan   120999 non-null  float64\n",
            " 3   Status Gizi    120999 non-null  object \n",
            "dtypes: float64(1), int64(1), object(2)\n",
            "memory usage: 3.7+ MB\n"
          ]
        }
      ]
    },
    {
      "cell_type": "code",
      "source": [
        "# check the missing value\n",
        "missing_values = stunting_data.isnull().sum()\n",
        "print(\"Number of missing values:\")\n",
        "print(missing_values)"
      ],
      "metadata": {
        "colab": {
          "base_uri": "https://localhost:8080/"
        },
        "id": "CpsZtlH6CJHJ",
        "outputId": "bcf46a6a-4d32-40f0-847e-f7b121208c8f"
      },
      "execution_count": 42,
      "outputs": [
        {
          "output_type": "stream",
          "name": "stdout",
          "text": [
            "Number of missing values:\n",
            "Umur             0\n",
            "Jenis Kelamin    0\n",
            "Tinggi Badan     0\n",
            "Status Gizi      0\n",
            "dtype: int64\n"
          ]
        }
      ]
    },
    {
      "cell_type": "code",
      "source": [
        "# check the duplicates\n",
        "duplicates = stunting_data[stunting_data.duplicated()]\n",
        "print(\"Duplicate rows :\")\n",
        "print(duplicates)"
      ],
      "metadata": {
        "colab": {
          "base_uri": "https://localhost:8080/"
        },
        "id": "FhJoPcS-Ccnw",
        "outputId": "103b8b65-ff04-4360-9a15-7089c8800179"
      },
      "execution_count": 43,
      "outputs": [
        {
          "output_type": "stream",
          "name": "stdout",
          "text": [
            "Duplicate rows :\n",
            "        Umur Jenis Kelamin  Tinggi Badan       Status Gizi\n",
            "6012       3     laki-laki          62.1            normal\n",
            "6014       3     laki-laki          59.2            normal\n",
            "6027       3     laki-laki          61.4            normal\n",
            "6031       3     laki-laki          71.0            tinggi\n",
            "6032       3     laki-laki          51.5  severely stunted\n",
            "...      ...           ...           ...               ...\n",
            "120994    60     perempuan         100.6            normal\n",
            "120995    60     perempuan          98.3           stunted\n",
            "120996    60     perempuan         121.3            normal\n",
            "120997    60     perempuan         112.2            normal\n",
            "120998    60     perempuan         109.8            normal\n",
            "\n",
            "[81574 rows x 4 columns]\n"
          ]
        }
      ]
    },
    {
      "cell_type": "code",
      "source": [
        "# remove the duplicates\n",
        "stunting_data1 = stunting_data.drop_duplicates()\n",
        "\n",
        "# rechecking for duplicated data\n",
        "stunting_data1.duplicated().sum()\n",
        "\n"
      ],
      "metadata": {
        "colab": {
          "base_uri": "https://localhost:8080/"
        },
        "id": "2cr-OdBdDTug",
        "outputId": "eec90bc6-f016-417b-ab20-8f82376f5184"
      },
      "execution_count": 44,
      "outputs": [
        {
          "output_type": "execute_result",
          "data": {
            "text/plain": [
              "0"
            ]
          },
          "metadata": {},
          "execution_count": 44
        }
      ]
    },
    {
      "cell_type": "code",
      "source": [
        "# check the outlier\n",
        "\n",
        "def check_outliers_iqr(df, column):\n",
        "    Q1 = df[column].quantile(0.25)\n",
        "    Q3 = df[column].quantile(0.75)\n",
        "    IQR = Q3 - Q1\n",
        "    lower_bound = Q1 - 1.5 * IQR\n",
        "    upper_bound = Q3 + 1.5 * IQR\n",
        "    outliers = df[(df[column] < lower_bound) | (df[column] > upper_bound)]\n",
        "    return outliers\n",
        "\n",
        "# Tinggi Badan column:\n",
        "outliers_tinggi_badan = check_outliers_iqr(stunting_data1, 'Tinggi Badan')\n",
        "print(\"Outliers in 'Tinggi Badan':\")\n",
        "print(outliers_tinggi_badan)\n",
        "\n",
        "# Umur column:\n",
        "outliers_umur = check_outliers_iqr(stunting_data1, 'Umur')\n",
        "print(\"Outliers in 'Umur':\")\n",
        "print(outliers_umur)"
      ],
      "metadata": {
        "colab": {
          "base_uri": "https://localhost:8080/"
        },
        "id": "Sj3VcqPWHHB6",
        "outputId": "f1ee32f5-a58d-4b06-a766-ab5c0e447065"
      },
      "execution_count": 45,
      "outputs": [
        {
          "output_type": "stream",
          "name": "stdout",
          "text": [
            "Outliers in 'Tinggi Badan':\n",
            "Empty DataFrame\n",
            "Columns: [Umur, Jenis Kelamin, Tinggi Badan, Status Gizi]\n",
            "Index: []\n",
            "Outliers in 'Umur':\n",
            "Empty DataFrame\n",
            "Columns: [Umur, Jenis Kelamin, Tinggi Badan, Status Gizi]\n",
            "Index: []\n"
          ]
        }
      ]
    },
    {
      "cell_type": "code",
      "source": [
        "# Label Encoding (for categorical columns)\n",
        "# Function to perform label encoding on a specified column using a given mapping\n",
        "def label_encoding(df, column, mapping):\n",
        "    df[column] = df[column].map(mapping)\n",
        "    return df\n",
        "\n",
        "# Define mapping for 'Jenis Kelamin' column\n",
        "# 'laki-laki' is mapped to 0 and 'perempuan' is mapped to 1\n",
        "gender_mapping = {'laki-laki': 0, 'perempuan': 1}\n",
        "\n",
        "# Define mapping for 'Status Gizi' column\n",
        "status_gizi_mapping = {'severely stunted': 0, 'stunted': 1, 'normal': 2, 'tinggi': 3}\n",
        "\n",
        "\n",
        "stunting_data1 = label_encoding(stunting_data1, 'Jenis Kelamin', gender_mapping)\n",
        "stunting_data1 = label_encoding(stunting_data1, 'Status Gizi', status_gizi_mapping)\n",
        "\n",
        "\n",
        "print(stunting_data1.head())\n"
      ],
      "metadata": {
        "colab": {
          "base_uri": "https://localhost:8080/"
        },
        "id": "FvrchDEJlSTv",
        "outputId": "56191fa0-aa78-4b75-84d4-439e111ca227"
      },
      "execution_count": 46,
      "outputs": [
        {
          "output_type": "stream",
          "name": "stdout",
          "text": [
            "   Umur  Jenis Kelamin  Tinggi Badan  Status Gizi\n",
            "0     0              0     44.591973            1\n",
            "1     0              0     56.705203            3\n",
            "2     0              0     46.863358            2\n",
            "3     0              0     47.508026            2\n",
            "4     0              0     42.743494            0\n"
          ]
        },
        {
          "output_type": "stream",
          "name": "stderr",
          "text": [
            "<ipython-input-46-c09d82c072c6>:4: SettingWithCopyWarning: \n",
            "A value is trying to be set on a copy of a slice from a DataFrame.\n",
            "Try using .loc[row_indexer,col_indexer] = value instead\n",
            "\n",
            "See the caveats in the documentation: https://pandas.pydata.org/pandas-docs/stable/user_guide/indexing.html#returning-a-view-versus-a-copy\n",
            "  df[column] = df[column].map(mapping)\n",
            "<ipython-input-46-c09d82c072c6>:4: SettingWithCopyWarning: \n",
            "A value is trying to be set on a copy of a slice from a DataFrame.\n",
            "Try using .loc[row_indexer,col_indexer] = value instead\n",
            "\n",
            "See the caveats in the documentation: https://pandas.pydata.org/pandas-docs/stable/user_guide/indexing.html#returning-a-view-versus-a-copy\n",
            "  df[column] = df[column].map(mapping)\n"
          ]
        }
      ]
    },
    {
      "cell_type": "code",
      "source": [
        "# Standardization\n",
        "from sklearn import preprocessing\n",
        "\n",
        "# Initialize the StandardScaler\n",
        "scaler = preprocessing.StandardScaler()\n",
        "\n",
        "# Select numerical columns for scaling (exclude 'Status Gizi' and 'Jenis Kelamin')\n",
        "numerical_cols = ['Umur', 'Tinggi Badan']\n",
        "\n",
        "# Fit and transform the numerical columns\n",
        "stunting_data1[numerical_cols] = scaler.fit_transform(stunting_data1[numerical_cols])\n",
        "\n",
        "print(stunting_data1.head())"
      ],
      "metadata": {
        "colab": {
          "base_uri": "https://localhost:8080/"
        },
        "id": "SER6I4nR88Me",
        "outputId": "92108e98-f1a1-4ba7-d309-ad0a40ef836f"
      },
      "execution_count": 47,
      "outputs": [
        {
          "output_type": "stream",
          "name": "stdout",
          "text": [
            "       Umur  Jenis Kelamin  Tinggi Badan  Status Gizi\n",
            "0 -1.469424              0     -2.096915            1\n",
            "1 -1.469424              0     -1.484093            3\n",
            "2 -1.469424              0     -1.982003            2\n",
            "3 -1.469424              0     -1.949388            2\n",
            "4 -1.469424              0     -2.190431            0\n"
          ]
        },
        {
          "output_type": "stream",
          "name": "stderr",
          "text": [
            "<ipython-input-47-b665bfa311eb>:11: SettingWithCopyWarning: \n",
            "A value is trying to be set on a copy of a slice from a DataFrame.\n",
            "Try using .loc[row_indexer,col_indexer] = value instead\n",
            "\n",
            "See the caveats in the documentation: https://pandas.pydata.org/pandas-docs/stable/user_guide/indexing.html#returning-a-view-versus-a-copy\n",
            "  stunting_data1[numerical_cols] = scaler.fit_transform(stunting_data1[numerical_cols])\n"
          ]
        }
      ]
    },
    {
      "cell_type": "markdown",
      "source": [
        "# **3. Exploratory Data Analysis (EDA)**"
      ],
      "metadata": {
        "id": "ajUqCznaQDhg"
      }
    },
    {
      "cell_type": "code",
      "source": [
        "import matplotlib.pyplot as plt\n",
        "import seaborn as sns\n",
        "\n",
        "# Count plots for categorical variable\n",
        "\n",
        "# Gender distribution\n",
        "plt.figure(figsize=(12, 6))\n",
        "plt.subplot(1, 2, 1)\n",
        "sns.countplot(x='Jenis Kelamin', data=stunting_data1)\n",
        "plt.title('Gender Distribution')\n",
        "\n",
        "# Nutritional Status Distribution\n",
        "plt.subplot(1, 2, 2)\n",
        "sns.countplot(x='Status Gizi', data=stunting_data1)\n",
        "plt.title('Nutritional Status Distribution')\n",
        "plt.show()\n"
      ],
      "metadata": {
        "colab": {
          "base_uri": "https://localhost:8080/",
          "height": 353
        },
        "id": "r3Mmmj_kQov9",
        "outputId": "bda33e37-f779-4a03-a04e-593dc1c0e2ec"
      },
      "execution_count": 48,
      "outputs": [
        {
          "output_type": "display_data",
          "data": {
            "text/plain": [
              "<Figure size 1200x600 with 2 Axes>"
            ],
            "image/png": "[encoded data removed]"
          },
          "metadata": {}
        }
      ]
    },
    {
      "cell_type": "code",
      "source": [
        "# Correlation matrix\n",
        "correlation_matrix = stunting_data1[['Umur', 'Tinggi Badan',\n",
        "                                     'Jenis Kelamin', 'Status Gizi']].corr()\n",
        "plt.figure(figsize=(8, 6))\n",
        "sns.heatmap(correlation_matrix, annot=True, cmap='coolwarm')\n",
        "plt.title('Correlation Matrix')\n",
        "plt.show()"
      ],
      "metadata": {
        "colab": {
          "base_uri": "https://localhost:8080/",
          "height": 545
        },
        "id": "1m88C7HYRQXl",
        "outputId": "53487f79-17d1-4db1-ebe0-518fcb2c5fbe"
      },
      "execution_count": 49,
      "outputs": [
        {
          "output_type": "display_data",
          "data": {
            "text/plain": [
              "<Figure size 800x600 with 2 Axes>"
            ],
            "image/png": "[encoded data removed]"
          },
          "metadata": {}
        }
      ]
    },
    {
      "cell_type": "markdown",
      "source": [
        "# **4. Modelling and Evaluation**"
      ],
      "metadata": {
        "id": "fBao5gZipTy8"
      }
    },
    {
      "cell_type": "code",
      "source": [
        "# Declare feature vector and target variable\n",
        "X = stunting_data1.drop(['Status Gizi'], axis=1)\n",
        "y = stunting_data1['Status Gizi']"
      ],
      "metadata": {
        "id": "awAAjWzJvb8v"
      },
      "execution_count": 50,
      "outputs": []
    },
    {
      "cell_type": "code",
      "source": [
        "# split X and y into training and testing sets\n",
        "from sklearn.model_selection import train_test_split\n",
        "\n",
        "X_train, X_test, y_train, y_test = train_test_split(X, y, test_size=0.2, random_state=42)"
      ],
      "metadata": {
        "id": "PYw7wN0zchUf"
      },
      "execution_count": 51,
      "outputs": []
    },
    {
      "cell_type": "code",
      "source": [
        "# check the shape of X_train and X_test\n",
        "X_train.shape, X_test.shape"
      ],
      "metadata": {
        "colab": {
          "base_uri": "https://localhost:8080/"
        },
        "id": "qCr1h8zZv54D",
        "outputId": "6bdf2a5d-94c5-49e5-f9f4-8a72eb34d470"
      },
      "execution_count": 52,
      "outputs": [
        {
          "output_type": "execute_result",
          "data": {
            "text/plain": [
              "((31540, 3), (7885, 3))"
            ]
          },
          "metadata": {},
          "execution_count": 52
        }
      ]
    },
    {
      "cell_type": "code",
      "source": [
        "from sklearn.svm import SVC\n",
        "from sklearn.metrics import accuracy_score, classification_report\n",
        "\n",
        "# Function to perform SVM with different kernels\n",
        "def perform_svm(X_train, X_test, y_train, y_test, kernel='linear', C=1, gamma='scale'):\n",
        "    # Initialize the SVC model with specified kernel, C, and gamma\n",
        "    svm_classifier = SVC(kernel=kernel, C=C, gamma=gamma, random_state=42)\n",
        "    # Fit the model to the training data\n",
        "    svm_classifier.fit(X_train, y_train)\n",
        "    # Make predictions on the test data\n",
        "    y_pred = svm_classifier.predict(X_test)\n",
        "    # Calculate accuracy of the model\n",
        "    accuracy = accuracy_score(y_test, y_pred)\n",
        "    # Print the accuracy of the current kernel\n",
        "    print(f\"Accuracy with {kernel} : {accuracy * 100:.2f}%\")\n",
        "    return accuracy, y_pred\n",
        "\n",
        "\n",
        "# Define different kernel types to evaluate\n",
        "kernels = ['linear', 'rbf', 'poly', 'sigmoid']\n",
        "results = {}\n",
        "\n",
        "# Iterate through each kernel type and evaluate the SVM model\n",
        "for kernel in kernels:\n",
        "    accuracy, y_pred = perform_svm(X_train, X_test, y_train, y_test, kernel=kernel)\n",
        "    results[kernel] = {'accuracy': f'{accuracy * 100:.2f}%', 'predictions': y_pred}\n",
        "\n",
        "# Identify the kernel with the highest accuracy\n",
        "best_kernel = max(results, key=lambda k: results[k]['accuracy'])\n",
        "best_predictions = results[best_kernel]['predictions']\n",
        "print(f\"\\nBest performing kernel: {best_kernel} with accuracy: {results[best_kernel]['accuracy']}\")\n",
        "\n",
        "# Evaluate the best-performing model with a detailed classification reportl\n",
        "print(f\"\\nClassification Report for {best_kernel}:\")\n",
        "print(classification_report(y_test, best_predictions))\n",
        "\n"
      ],
      "metadata": {
        "colab": {
          "base_uri": "https://localhost:8080/"
        },
        "id": "CVsmlOMS_nY4",
        "outputId": "4281230f-94c6-4ca9-be0c-e4188d0864fb"
      },
      "execution_count": 53,
      "outputs": [
        {
          "output_type": "stream",
          "name": "stdout",
          "text": [
            "Accuracy with linear : 71.64%\n",
            "Accuracy with rbf : 97.03%\n",
            "Accuracy with poly : 84.19%\n",
            "Accuracy with sigmoid : 46.39%\n",
            "\n",
            "Best performing kernel: rbf with accuracy: 97.03%\n",
            "\n",
            "Classification Report for rbf:\n",
            "              precision    recall  f1-score   support\n",
            "\n",
            "           0       0.96      0.99      0.97      1330\n",
            "           1       0.96      0.86      0.91       838\n",
            "           2       0.97      0.99      0.98      4339\n",
            "           3       0.98      0.96      0.97      1378\n",
            "\n",
            "    accuracy                           0.97      7885\n",
            "   macro avg       0.97      0.95      0.96      7885\n",
            "weighted avg       0.97      0.97      0.97      7885\n",
            "\n"
          ]
        }
      ]
    },
    {
      "cell_type": "code",
      "source": [
        "# Hyperparameter Tuning using GridSearchCV\n",
        "from sklearn.model_selection import GridSearchCV\n",
        "\n",
        "# Define the parameter grid for the SVM model\n",
        "# 'C' controls the trade-off between smooth decision boundary and correct classification\n",
        "# 'gamma' defines how far the influence of a single training example reaches (used in RBF kernel)\n",
        "# 'kernel' specifies the type of kernel to use; here, we use the best kernel determined earlier (e.g., 'rbf')\n",
        "param_grid = {'C': [0.1, 1, 10, 100], 'gamma': [1, 0.1, 0.01, 0.001], 'kernel': [best_kernel]}\n",
        "\n",
        "# Initialize GridSearchCV with SVC as the estimator\n",
        "# 'param_grid' specifies the parameter combinations to try\n",
        "# 'refit=True' ensures the best model (based on cross-validation) is refitted on the entire training set\n",
        "# 'verbose=3' displays detailed logs during the fitting process\n",
        "grid = GridSearchCV(SVC(random_state=42), param_grid, refit=True, verbose=3)\n",
        "\n",
        "# Fit the model on the training data with different hyperparameter combinations\n",
        "grid.fit(X_train, y_train)\n",
        "\n",
        "# Print the best hyperparameters found during the search\n",
        "print(f\"\\nBest parameters : {grid.best_params_}\")\n",
        "\n",
        "# Print the best estimator (model with the optimal hyperparameters)\n",
        "print(f\"\\nBest estimator : {grid.best_estimator_}\")\n",
        "\n",
        "# Use the best model to make predictions on the test set\n",
        "grid_predictions = grid.predict(X_test)\n",
        "\n",
        "# Print the classification report for the model with the best hyperparameters\n",
        "print(f\"\\nClassification Report for {grid.best_params_} :\")\n",
        "print(classification_report(y_test, grid_predictions))\n"
      ],
      "metadata": {
        "colab": {
          "base_uri": "https://localhost:8080/"
        },
        "id": "r8bRx-YG020s",
        "outputId": "ac3cb9b7-a5d6-4018-a0f4-9446e0b72583"
      },
      "execution_count": 54,
      "outputs": [
        {
          "output_type": "stream",
          "name": "stdout",
          "text": [
            "Fitting 5 folds for each of 16 candidates, totalling 80 fits\n",
            "[CV 1/5] END ........C=0.1, gamma=1, kernel=rbf;, score=0.942 total time=  14.7s\n",
            "[CV 2/5] END ........C=0.1, gamma=1, kernel=rbf;, score=0.947 total time=  14.9s\n",
            "[CV 3/5] END ........C=0.1, gamma=1, kernel=rbf;, score=0.944 total time=  14.9s\n",
            "[CV 4/5] END ........C=0.1, gamma=1, kernel=rbf;, score=0.939 total time=  15.9s\n",
            "[CV 5/5] END ........C=0.1, gamma=1, kernel=rbf;, score=0.947 total time=  15.6s\n",
            "[CV 1/5] END ......C=0.1, gamma=0.1, kernel=rbf;, score=0.905 total time=  21.2s\n",
            "[CV 2/5] END ......C=0.1, gamma=0.1, kernel=rbf;, score=0.913 total time=  23.1s\n",
            "[CV 3/5] END ......C=0.1, gamma=0.1, kernel=rbf;, score=0.903 total time=  24.2s\n",
            "[CV 4/5] END ......C=0.1, gamma=0.1, kernel=rbf;, score=0.900 total time=  21.4s\n",
            "[CV 5/5] END ......C=0.1, gamma=0.1, kernel=rbf;, score=0.908 total time=  22.8s\n",
            "[CV 1/5] END .....C=0.1, gamma=0.01, kernel=rbf;, score=0.590 total time=  30.1s\n",
            "[CV 2/5] END .....C=0.1, gamma=0.01, kernel=rbf;, score=0.591 total time=  30.5s\n",
            "[CV 3/5] END .....C=0.1, gamma=0.01, kernel=rbf;, score=0.592 total time=  33.3s\n",
            "[CV 4/5] END .....C=0.1, gamma=0.01, kernel=rbf;, score=0.592 total time=  30.7s\n",
            "[CV 5/5] END .....C=0.1, gamma=0.01, kernel=rbf;, score=0.591 total time=  30.6s\n",
            "[CV 1/5] END ....C=0.1, gamma=0.001, kernel=rbf;, score=0.545 total time=  36.1s\n",
            "[CV 2/5] END ....C=0.1, gamma=0.001, kernel=rbf;, score=0.545 total time=  38.1s\n",
            "[CV 3/5] END ....C=0.1, gamma=0.001, kernel=rbf;, score=0.545 total time=  34.5s\n",
            "[CV 4/5] END ....C=0.1, gamma=0.001, kernel=rbf;, score=0.545 total time=  36.2s\n",
            "[CV 5/5] END ....C=0.1, gamma=0.001, kernel=rbf;, score=0.545 total time=  35.5s\n",
            "[CV 1/5] END ..........C=1, gamma=1, kernel=rbf;, score=0.969 total time=   8.2s\n",
            "[CV 2/5] END ..........C=1, gamma=1, kernel=rbf;, score=0.974 total time=   8.5s\n",
            "[CV 3/5] END ..........C=1, gamma=1, kernel=rbf;, score=0.974 total time=   6.9s\n",
            "[CV 4/5] END ..........C=1, gamma=1, kernel=rbf;, score=0.969 total time=  10.0s\n",
            "[CV 5/5] END ..........C=1, gamma=1, kernel=rbf;, score=0.972 total time=   6.7s\n",
            "[CV 1/5] END ........C=1, gamma=0.1, kernel=rbf;, score=0.955 total time=  11.8s\n",
            "[CV 2/5] END ........C=1, gamma=0.1, kernel=rbf;, score=0.961 total time=  11.9s\n",
            "[CV 3/5] END ........C=1, gamma=0.1, kernel=rbf;, score=0.955 total time=  11.7s\n",
            "[CV 4/5] END ........C=1, gamma=0.1, kernel=rbf;, score=0.953 total time=  11.8s\n",
            "[CV 5/5] END ........C=1, gamma=0.1, kernel=rbf;, score=0.955 total time=  12.0s\n",
            "[CV 1/5] END .......C=1, gamma=0.01, kernel=rbf;, score=0.882 total time=  22.5s\n",
            "[CV 2/5] END .......C=1, gamma=0.01, kernel=rbf;, score=0.888 total time=  23.9s\n",
            "[CV 3/5] END .......C=1, gamma=0.01, kernel=rbf;, score=0.880 total time=  25.9s\n",
            "[CV 4/5] END .......C=1, gamma=0.01, kernel=rbf;, score=0.882 total time=  22.5s\n",
            "[CV 5/5] END .......C=1, gamma=0.01, kernel=rbf;, score=0.888 total time=  23.3s\n",
            "[CV 1/5] END ......C=1, gamma=0.001, kernel=rbf;, score=0.586 total time=  34.8s\n",
            "[CV 2/5] END ......C=1, gamma=0.001, kernel=rbf;, score=0.587 total time=  32.7s\n",
            "[CV 3/5] END ......C=1, gamma=0.001, kernel=rbf;, score=0.588 total time=  35.7s\n",
            "[CV 4/5] END ......C=1, gamma=0.001, kernel=rbf;, score=0.585 total time=  33.5s\n",
            "[CV 5/5] END ......C=1, gamma=0.001, kernel=rbf;, score=0.586 total time=  33.4s\n",
            "[CV 1/5] END .........C=10, gamma=1, kernel=rbf;, score=0.987 total time=   4.6s\n",
            "[CV 2/5] END .........C=10, gamma=1, kernel=rbf;, score=0.990 total time=   3.3s\n",
            "[CV 3/5] END .........C=10, gamma=1, kernel=rbf;, score=0.986 total time=   3.3s\n",
            "[CV 4/5] END .........C=10, gamma=1, kernel=rbf;, score=0.990 total time=   4.8s\n",
            "[CV 5/5] END .........C=10, gamma=1, kernel=rbf;, score=0.990 total time=   3.6s\n",
            "[CV 1/5] END .......C=10, gamma=0.1, kernel=rbf;, score=0.973 total time=   5.2s\n",
            "[CV 2/5] END .......C=10, gamma=0.1, kernel=rbf;, score=0.977 total time=   6.8s\n",
            "[CV 3/5] END .......C=10, gamma=0.1, kernel=rbf;, score=0.975 total time=   5.4s\n",
            "[CV 4/5] END .......C=10, gamma=0.1, kernel=rbf;, score=0.976 total time=   6.9s\n",
            "[CV 5/5] END .......C=10, gamma=0.1, kernel=rbf;, score=0.977 total time=   5.3s\n",
            "[CV 1/5] END ......C=10, gamma=0.01, kernel=rbf;, score=0.920 total time=  14.7s\n",
            "[CV 2/5] END ......C=10, gamma=0.01, kernel=rbf;, score=0.926 total time=  13.0s\n",
            "[CV 3/5] END ......C=10, gamma=0.01, kernel=rbf;, score=0.916 total time=  13.1s\n",
            "[CV 4/5] END ......C=10, gamma=0.01, kernel=rbf;, score=0.918 total time=  13.0s\n",
            "[CV 5/5] END ......C=10, gamma=0.01, kernel=rbf;, score=0.920 total time=  13.4s\n",
            "[CV 1/5] END .....C=10, gamma=0.001, kernel=rbf;, score=0.746 total time=  27.8s\n",
            "[CV 2/5] END .....C=10, gamma=0.001, kernel=rbf;, score=0.748 total time=  28.1s\n",
            "[CV 3/5] END .....C=10, gamma=0.001, kernel=rbf;, score=0.751 total time=  29.5s\n",
            "[CV 4/5] END .....C=10, gamma=0.001, kernel=rbf;, score=0.750 total time=  27.7s\n",
            "[CV 5/5] END .....C=10, gamma=0.001, kernel=rbf;, score=0.751 total time=  27.7s\n",
            "[CV 1/5] END ........C=100, gamma=1, kernel=rbf;, score=0.991 total time=   1.8s\n",
            "[CV 2/5] END ........C=100, gamma=1, kernel=rbf;, score=0.994 total time=   1.8s\n",
            "[CV 3/5] END ........C=100, gamma=1, kernel=rbf;, score=0.993 total time=   1.8s\n",
            "[CV 4/5] END ........C=100, gamma=1, kernel=rbf;, score=0.993 total time=   2.6s\n",
            "[CV 5/5] END ........C=100, gamma=1, kernel=rbf;, score=0.994 total time=   2.8s\n",
            "[CV 1/5] END ......C=100, gamma=0.1, kernel=rbf;, score=0.985 total time=   2.8s\n",
            "[CV 2/5] END ......C=100, gamma=0.1, kernel=rbf;, score=0.985 total time=   2.8s\n",
            "[CV 3/5] END ......C=100, gamma=0.1, kernel=rbf;, score=0.986 total time=   2.8s\n",
            "[CV 4/5] END ......C=100, gamma=0.1, kernel=rbf;, score=0.988 total time=   4.5s\n",
            "[CV 5/5] END ......C=100, gamma=0.1, kernel=rbf;, score=0.987 total time=   2.8s\n",
            "[CV 1/5] END .....C=100, gamma=0.01, kernel=rbf;, score=0.953 total time=   6.4s\n",
            "[CV 2/5] END .....C=100, gamma=0.01, kernel=rbf;, score=0.958 total time=   8.3s\n",
            "[CV 3/5] END .....C=100, gamma=0.01, kernel=rbf;, score=0.951 total time=   6.7s\n",
            "[CV 4/5] END .....C=100, gamma=0.01, kernel=rbf;, score=0.951 total time=   7.9s\n",
            "[CV 5/5] END .....C=100, gamma=0.01, kernel=rbf;, score=0.956 total time=   7.4s\n",
            "[CV 1/5] END ....C=100, gamma=0.001, kernel=rbf;, score=0.881 total time=  20.7s\n",
            "[CV 2/5] END ....C=100, gamma=0.001, kernel=rbf;, score=0.886 total time=  17.6s\n",
            "[CV 3/5] END ....C=100, gamma=0.001, kernel=rbf;, score=0.882 total time=  18.1s\n",
            "[CV 4/5] END ....C=100, gamma=0.001, kernel=rbf;, score=0.881 total time=  19.3s\n",
            "[CV 5/5] END ....C=100, gamma=0.001, kernel=rbf;, score=0.885 total time=  17.8s\n",
            "\n",
            "Best parameters : {'C': 100, 'gamma': 1, 'kernel': 'rbf'}\n",
            "\n",
            "Best estimator : SVC(C=100, gamma=1, random_state=42)\n",
            "\n",
            "Classification Report for {'C': 100, 'gamma': 1, 'kernel': 'rbf'} :\n",
            "              precision    recall  f1-score   support\n",
            "\n",
            "           0       0.99      0.99      0.99      1330\n",
            "           1       0.98      0.99      0.98       838\n",
            "           2       1.00      1.00      1.00      4339\n",
            "           3       1.00      0.99      0.99      1378\n",
            "\n",
            "    accuracy                           0.99      7885\n",
            "   macro avg       0.99      0.99      0.99      7885\n",
            "weighted avg       0.99      0.99      0.99      7885\n",
            "\n"
          ]
        }
      ]
    },
    {
      "cell_type": "code",
      "source": [
        "from sklearn.metrics import confusion_matrix\n",
        "import seaborn as sns\n",
        "import matplotlib.pyplot as plt\n",
        "\n",
        "# Confusion Matrix for the model after hyperparameter tuning\n",
        "conf_matrix_grid = confusion_matrix(y_test, grid_predictions)\n",
        "plt.figure(figsize=(8, 6))\n",
        "sns.heatmap(conf_matrix_grid, annot=True, fmt=\"d\", cmap=\"Blues\",\n",
        "            xticklabels=['severely stunted', 'stunted', 'normal', 'tinggi'],\n",
        "            yticklabels=['severely stunted', 'stunted', 'normal', 'tinggi'])\n",
        "plt.xlabel(\"Predicted\")\n",
        "plt.ylabel(\"Actual\")\n",
        "plt.title(f\"Confusion Matrix for {best_kernel} after Hyperparameter Tuning\")\n",
        "plt.show()"
      ],
      "metadata": {
        "colab": {
          "base_uri": "https://localhost:8080/",
          "height": 539
        },
        "id": "I6KOtRMb777L",
        "outputId": "140479fe-9240-467c-e150-c967ea9b47dc"
      },
      "execution_count": 55,
      "outputs": [
        {
          "output_type": "display_data",
          "data": {
            "text/plain": [
              "<Figure size 800x600 with 2 Axes>"
            ],
            "image/png": "[encoded data removed]"
          },
          "metadata": {}
        }
      ]
    }
  ]
}